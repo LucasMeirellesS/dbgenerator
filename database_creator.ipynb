{
 "cells": [
  {
   "cell_type": "code",
   "execution_count": 86,
   "id": "50955c0f",
   "metadata": {},
   "outputs": [],
   "source": [
    "# Importando pandas\n",
    "import pandas as pd"
   ]
  },
  {
   "cell_type": "code",
   "execution_count": 87,
   "id": "13cdf78f",
   "metadata": {},
   "outputs": [],
   "source": [
    "# Criando função para transformar o nome de uma variável em String\n",
    "def nome_da_variavel(variavel):\n",
    "    # Acessando o namespace local\n",
    "    namespace = globals()\n",
    "    for nome, valor in namespace.items():\n",
    "        if valor is variavel:\n",
    "            return nome\n",
    "    return None"
   ]
  },
  {
   "cell_type": "code",
   "execution_count": 88,
   "id": "fb340236",
   "metadata": {},
   "outputs": [],
   "source": [
    "# Função para criar querys a partir dos dataframes\n",
    "def table_creator(table):\n",
    "    query = f\"CREATE TABLE {nome_da_variavel(table)} (\\n\"\n",
    "    for i in range(0, len(table.columns)):\n",
    "\n",
    "        coluna = str(table.columns[i])\n",
    "        dtipo = str(table[table.columns[i]].dtype)\n",
    "\n",
    "        if i == 0:\n",
    "            if dtipo == \"object\":\n",
    "                cria_col = f\"{coluna} VARCHAR(100) PRIMARY KEY,\"\n",
    "            else:\n",
    "                cria_col = f\"{coluna} INTEGER PRIMARY KEY,\"\n",
    "        elif i != len(table.columns) - 1:\n",
    "\n",
    "            if \"float\" in dtipo:\n",
    "                cria_col = f\"{coluna} DECIMAL,\"\n",
    "\n",
    "            elif \"int\" in dtipo:\n",
    "                cria_col = f\"{coluna} INT,\"\n",
    "\n",
    "            elif \"object\" in dtipo:\n",
    "                cria_col = f\"{coluna} VARCHAR(100),\"\n",
    "\n",
    "        else:\n",
    "\n",
    "            if \"float\" in dtipo:\n",
    "                cria_col = f\"{coluna} DECIMAL\"\n",
    "\n",
    "            elif \"int\" in dtipo:\n",
    "                cria_col = f\"{coluna} INT\"\n",
    "\n",
    "            elif \"object\" in dtipo:\n",
    "                cria_col = f\"{coluna} VARCHAR(100)\"\n",
    "\n",
    "        query += cria_col + \"\\n\" \n",
    "\n",
    "    query += \");\"\n",
    "    return str(query)"
   ]
  },
  {
   "cell_type": "code",
   "execution_count": null,
   "id": "ed958d82",
   "metadata": {},
   "outputs": [],
   "source": []
  },
  {
   "cell_type": "code",
   "execution_count": 89,
   "id": "5e8167f5",
   "metadata": {},
   "outputs": [],
   "source": [
    "# Carregando datasets\n",
    "produtos = pd.read_csv(\"datasets/olist_products_dataset.csv\")\n",
    "geo = pd.read_csv(\"datasets/olist_geolocation_dataset.csv\")\n",
    "clientes = pd.read_csv(\"datasets/olist_customers_dataset.csv\")\n",
    "itens = pd.read_csv(\"datasets/olist_order_items_dataset.csv\")\n",
    "pagamentos = pd.read_csv(\"datasets/olist_order_payments_dataset.csv\")\n",
    "reviews = pd.read_csv(\"datasets/olist_order_reviews_dataset.csv\")\n",
    "pedidos = pd.read_csv(\"datasets/olist_orders_dataset.csv\")\n",
    "vendedores = pd.read_csv(\"datasets/olist_sellers_dataset.csv\")\n",
    "categoria_produto = pd.read_csv(\"datasets/product_category_name_translation.csv\")\n",
    "#lista_df = {\"produtos\":produtos, \"geo\":geo, \"clientes\":clientes, \"itens\":itens, \"pagamentos\":pagamentos, \"reviews\":reviews, \"pedidos\":pedidos, \"vendedores\":vendedores, \"categoria_produto\":categoria_produto}\n",
    "lista_df = [produtos, geo, clientes, itens, pagamentos, reviews, pedidos, vendedores, categoria_produto]"
   ]
  },
  {
   "cell_type": "code",
   "execution_count": 90,
   "id": "9f6642e4",
   "metadata": {},
   "outputs": [],
   "source": [
    "# Criando o corpo do arquivo\n",
    "query = \"\\n\"\n",
    "for df in lista_df:\n",
    "    query += table_creator(df) + \"\\n\""
   ]
  },
  {
   "cell_type": "code",
   "execution_count": 91,
   "id": "c5d21f60",
   "metadata": {
    "scrolled": true
   },
   "outputs": [],
   "source": [
    "# Criando o arquivo e escrevendo nele\n",
    "with open(\"create_table.txt\", \"w\") as create:\n",
    "    create.write(query)"
   ]
  },
  {
   "cell_type": "code",
   "execution_count": null,
   "id": "b2125100",
   "metadata": {},
   "outputs": [],
   "source": []
  }
 ],
 "metadata": {
  "kernelspec": {
   "display_name": "Python 3 (ipykernel)",
   "language": "python",
   "name": "python3"
  },
  "language_info": {
   "codemirror_mode": {
    "name": "ipython",
    "version": 3
   },
   "file_extension": ".py",
   "mimetype": "text/x-python",
   "name": "python",
   "nbconvert_exporter": "python",
   "pygments_lexer": "ipython3",
   "version": "3.11.5"
  }
 },
 "nbformat": 4,
 "nbformat_minor": 5
}
