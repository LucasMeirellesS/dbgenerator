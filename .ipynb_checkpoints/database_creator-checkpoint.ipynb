{
 "cells": [
  {
   "cell_type": "code",
   "execution_count": 77,
   "id": "50955c0f",
   "metadata": {},
   "outputs": [],
   "source": [
    "# Importando pandas\n",
    "import pandas as pd"
   ]
  },
  {
   "cell_type": "code",
   "execution_count": 78,
   "id": "13cdf78f",
   "metadata": {},
   "outputs": [],
   "source": [
    "# Criando função para transformar o nome de uma variável em String\n",
    "def nome_da_variavel(variavel):\n",
    "    # Acessando o namespace local\n",
    "    namespace = globals()\n",
    "    for nome, valor in namespace.items():\n",
    "        if valor is variavel:\n",
    "            return nome\n",
    "    return None"
   ]
  },
  {
   "cell_type": "code",
   "execution_count": 79,
   "id": "fb340236",
   "metadata": {},
   "outputs": [],
   "source": [
    "# Função para criar querys a partir dos dataframes\n",
    "def table_creator(table):\n",
    "    query = f\"CREATE TABLE {nome_da_variavel(table)} (\\n\"\n",
    "    for i in range(0, len(table.columns)):\n",
    "\n",
    "        coluna = str(table.columns[i])\n",
    "        dtipo = str(table[table.columns[i]].dtype)\n",
    "\n",
    "        if i == 0:\n",
    "            if dtipo == \"object\":\n",
    "                cria_col = f\"{coluna} VARCHAR(100) PRIMARY KEY,\"\n",
    "            else:\n",
    "                cria_col = f\"{coluna} INTEGER PRIMARY KEY,\"\n",
    "        elif i != len(table.columns) - 1:\n",
    "\n",
    "            if \"float\" in dtipo:\n",
    "                cria_col = f\"{coluna} DECIMAL,\"\n",
    "\n",
    "            elif \"int\" in dtipo:\n",
    "                cria_col = f\"{coluna} INT,\"\n",
    "\n",
    "            elif \"object\" in dtipo:\n",
    "                cria_col = f\"{coluna} VARCHAR(100),\"\n",
    "\n",
    "        else:\n",
    "\n",
    "            if \"float\" in dtipo:\n",
    "                cria_col = f\"{coluna} DECIMAL\"\n",
    "\n",
    "            elif \"int\" in dtipo:\n",
    "                cria_col = f\"{coluna} INT\"\n",
    "\n",
    "            elif \"object\" in dtipo:\n",
    "                cria_col = f\"{coluna} VARCHAR(100)\"\n",
    "\n",
    "        query += cria_col + \"\\n\" \n",
    "\n",
    "    query += \");\"\n",
    "    return str(query)"
   ]
  },
  {
   "cell_type": "code",
   "execution_count": null,
   "id": "ed958d82",
   "metadata": {},
   "outputs": [],
   "source": []
  },
  {
   "cell_type": "code",
   "execution_count": 80,
   "id": "5e8167f5",
   "metadata": {},
   "outputs": [],
   "source": [
    "produtos = pd.read_csv(\"datasets/olist_products_dataset.csv\")\n",
    "geo = pd.read_csv(\"datasets/olist_geolocation_dataset.csv\")\n",
    "clientes = pd.read_csv(\"datasets/olist_customers_dataset.csv\")\n",
    "itens = pd.read_csv(\"datasets/olist_order_items_dataset.csv\")\n",
    "pagamentos = pd.read_csv(\"datasets/olist_order_payments_dataset.csv\")\n",
    "reviews = pd.read_csv(\"datasets/olist_order_reviews_dataset.csv\")\n",
    "pedidos = pd.read_csv(\"datasets/olist_orders_dataset.csv\")\n",
    "vendedores = pd.read_csv(\"datasets/olist_sellers_dataset.csv\")\n",
    "categoria_produto = pd.read_csv(\"datasets/product_category_name_translation.csv\")\n",
    "#lista_df = {\"produtos\":produtos, \"geo\":geo, \"clientes\":clientes, \"itens\":itens, \"pagamentos\":pagamentos, \"reviews\":reviews, \"pedidos\":pedidos, \"vendedores\":vendedores, \"categoria_produto\":categoria_produto}\n",
    "lista_df = [produtos, geo, clientes, itens, pagamentos, reviews, pedidos, vendedores, categoria_produto]"
   ]
  },
  {
   "cell_type": "code",
   "execution_count": 81,
   "id": "9f6642e4",
   "metadata": {},
   "outputs": [],
   "source": [
    "query = \"\\n\"\n",
    "for df in lista_df:\n",
    "    query += table_creator(df) + \"\\n\""
   ]
  },
  {
   "cell_type": "code",
   "execution_count": 82,
   "id": "c160b9a9",
   "metadata": {},
   "outputs": [
    {
     "data": {
      "text/plain": [
       "'\\nCREATE TABLE produtos (\\nproduct_id VARCHAR(100) PRIMARY KEY,\\nproduct_category_name VARCHAR(100),\\nproduct_name_lenght DECIMAL,\\nproduct_description_lenght DECIMAL,\\nproduct_photos_qty DECIMAL,\\nproduct_weight_g DECIMAL,\\nproduct_length_cm DECIMAL,\\nproduct_height_cm DECIMAL,\\nproduct_width_cm DECIMAL\\n);\\nCREATE TABLE geo (\\ngeolocation_zip_code_prefix INTEGER PRIMARY KEY,\\ngeolocation_lat DECIMAL,\\ngeolocation_lng DECIMAL,\\ngeolocation_city VARCHAR(100),\\ngeolocation_state VARCHAR(100)\\n);\\nCREATE TABLE clientes (\\ncustomer_id VARCHAR(100) PRIMARY KEY,\\ncustomer_unique_id VARCHAR(100),\\ncustomer_zip_code_prefix INT,\\ncustomer_city VARCHAR(100),\\ncustomer_state VARCHAR(100)\\n);\\nCREATE TABLE itens (\\norder_id VARCHAR(100) PRIMARY KEY,\\norder_item_id INT,\\nproduct_id VARCHAR(100),\\nseller_id VARCHAR(100),\\nshipping_limit_date VARCHAR(100),\\nprice DECIMAL,\\nfreight_value DECIMAL\\n);\\nCREATE TABLE pagamentos (\\norder_id VARCHAR(100) PRIMARY KEY,\\npayment_sequential INT,\\npayment_type VARCHAR(100),\\npayment_installments INT,\\npayment_value DECIMAL\\n);\\nCREATE TABLE reviews (\\nreview_id VARCHAR(100) PRIMARY KEY,\\norder_id VARCHAR(100),\\nreview_score INT,\\nreview_comment_title VARCHAR(100),\\nreview_comment_message VARCHAR(100),\\nreview_creation_date VARCHAR(100),\\nreview_answer_timestamp VARCHAR(100)\\n);\\nCREATE TABLE pedidos (\\norder_id VARCHAR(100) PRIMARY KEY,\\ncustomer_id VARCHAR(100),\\norder_status VARCHAR(100),\\norder_purchase_timestamp VARCHAR(100),\\norder_approved_at VARCHAR(100),\\norder_delivered_carrier_date VARCHAR(100),\\norder_delivered_customer_date VARCHAR(100),\\norder_estimated_delivery_date VARCHAR(100)\\n);\\nCREATE TABLE vendedores (\\nseller_id VARCHAR(100) PRIMARY KEY,\\nseller_zip_code_prefix INT,\\nseller_city VARCHAR(100),\\nseller_state VARCHAR(100)\\n);\\nCREATE TABLE categoria_produto (\\nproduct_category_name VARCHAR(100) PRIMARY KEY,\\nproduct_category_name_english VARCHAR(100)\\n);\\n'"
      ]
     },
     "execution_count": 82,
     "metadata": {},
     "output_type": "execute_result"
    }
   ],
   "source": [
    "query"
   ]
  },
  {
   "cell_type": "code",
   "execution_count": 85,
   "id": "c5d21f60",
   "metadata": {
    "scrolled": true
   },
   "outputs": [],
   "source": [
    "with open(\"create_table.txt\", \"w\") as create:\n",
    "    create.write(query)"
   ]
  },
  {
   "cell_type": "code",
   "execution_count": null,
   "id": "b2125100",
   "metadata": {},
   "outputs": [],
   "source": []
  }
 ],
 "metadata": {
  "kernelspec": {
   "display_name": "Python 3 (ipykernel)",
   "language": "python",
   "name": "python3"
  },
  "language_info": {
   "codemirror_mode": {
    "name": "ipython",
    "version": 3
   },
   "file_extension": ".py",
   "mimetype": "text/x-python",
   "name": "python",
   "nbconvert_exporter": "python",
   "pygments_lexer": "ipython3",
   "version": "3.11.5"
  }
 },
 "nbformat": 4,
 "nbformat_minor": 5
}
